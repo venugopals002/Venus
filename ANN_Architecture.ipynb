{
  "nbformat": 4,
  "nbformat_minor": 0,
  "metadata": {
    "colab": {
      "provenance": [],
      "include_colab_link": true
    },
    "kernelspec": {
      "name": "python3",
      "display_name": "Python 3"
    },
    "language_info": {
      "name": "python"
    }
  },
  "cells": [
    {
      "cell_type": "markdown",
      "metadata": {
        "id": "view-in-github",
        "colab_type": "text"
      },
      "source": [
        "<a href=\"https://colab.research.google.com/github/venugopals002/Venus/blob/main/ANN_Architecture.ipynb\" target=\"_parent\"><img src=\"https://colab.research.google.com/assets/colab-badge.svg\" alt=\"Open In Colab\"/></a>"
      ]
    },
    {
      "cell_type": "markdown",
      "source": [
        "## Tensorflow"
      ],
      "metadata": {
        "id": "WoZR3KjWXH98"
      }
    },
    {
      "cell_type": "code",
      "source": [
        "import tensorflow as tf\n",
        "from tensorflow.keras import layers, models"
      ],
      "metadata": {
        "id": "9iyBtNXaW7HV"
      },
      "execution_count": null,
      "outputs": []
    },
    {
      "cell_type": "code",
      "source": [
        "# Lets define the neural network architecture\n",
        "\n",
        "model = models.Sequential([\n",
        "    layers.InputLayer(input_shape = (4,)),\n",
        "    layers.Dense(units = 10, activation = \"relu\", name = \"Hidden_Layer_1\"),\n",
        "    layers.Dense(units = 6,activation = \"relu\", name = \"Hidden_Layer_2\"),\n",
        "    layers.Dense(units = 4,activation = \"tanh\", name = \"Hidden_Layer_3\"),\n",
        "    layers.Dense(units = 1, activation = \"sigmoid\",name = \"Output_Layer\")\n",
        "])"
      ],
      "metadata": {
        "id": "MmrDnZ42W7KL"
      },
      "execution_count": null,
      "outputs": []
    },
    {
      "cell_type": "code",
      "source": [
        "# Lets Display the weights and Biases of the given network\n",
        "\n",
        "for layer in model.layers:\n",
        "  print(f\"Layer : {layer.name}\")\n",
        "  print(f\"Weights : {layer.get_weights()[0]}\")\n",
        "  print(f\"Biases : {layer.get_weights()[1]}\")\n",
        "  print(\"=\"*30)"
      ],
      "metadata": {
        "id": "YPNESYkwW7Mr",
        "colab": {
          "base_uri": "https://localhost:8080/"
        },
        "outputId": "910f772c-af1a-45ec-bc5e-c3e88193557d"
      },
      "execution_count": null,
      "outputs": [
        {
          "output_type": "stream",
          "name": "stdout",
          "text": [
            "Layer : Hidden_Layer_1\n",
            "Weights : [[ 0.13249034  0.2922492   0.31714064 -0.13500994 -0.15481904  0.053482\n",
            "  -0.17010084  0.16776371 -0.18696421 -0.16771764]\n",
            " [ 0.27330577 -0.37185332  0.23540962  0.32660103  0.5886266   0.3197024\n",
            "   0.51158273  0.6121968  -0.5920898  -0.37366605]\n",
            " [-0.12047267  0.3452689  -0.6101996  -0.6461443   0.30914366  0.31834292\n",
            "   0.22821003 -0.275251    0.62736094 -0.5338482 ]\n",
            " [ 0.52537274  0.05794388  0.0582993   0.12219268 -0.5413659  -0.3846656\n",
            "  -0.63206273  0.6405505   0.423658   -0.41491842]]\n",
            "Biases : [0. 0. 0. 0. 0. 0. 0. 0. 0. 0.]\n",
            "==============================\n",
            "Layer : Hidden_Layer_2\n",
            "Weights : [[ 0.26818568  0.35052466 -0.0323391  -0.3774553   0.6018992  -0.321706  ]\n",
            " [ 0.31226426  0.12838554  0.60040873  0.44416338 -0.27018458  0.01413888]\n",
            " [-0.21334246 -0.533175   -0.3234755  -0.19967487 -0.4634408   0.30962867]\n",
            " [ 0.24369287  0.2662047  -0.15161967  0.40794104 -0.5884188   0.2729907 ]\n",
            " [-0.301061   -0.0757094   0.5410735   0.20392889 -0.34451103 -0.15105581]\n",
            " [ 0.28639084 -0.2195802  -0.3205469  -0.30312195 -0.11329588  0.45511514]\n",
            " [-0.52788067 -0.5544921  -0.5733102  -0.5450527   0.05386782  0.20997012]\n",
            " [ 0.03735054 -0.33073688  0.439637   -0.17436138  0.3499655   0.39624208]\n",
            " [ 0.2385186  -0.55488384 -0.2986406   0.20686263 -0.05695295 -0.26944086]\n",
            " [-0.30531052 -0.19614631  0.17273128 -0.31619415  0.28434986 -0.33486813]]\n",
            "Biases : [0. 0. 0. 0. 0. 0.]\n",
            "==============================\n",
            "Layer : Hidden_Layer_3\n",
            "Weights : [[ 0.7361984  -0.26657343  0.59239995 -0.0492186 ]\n",
            " [-0.3058054   0.6417484   0.6196935   0.39432108]\n",
            " [ 0.12889916  0.49124193 -0.25747508 -0.11056668]\n",
            " [-0.20898688 -0.68993056 -0.44175997  0.76941884]\n",
            " [ 0.77310777 -0.3183345   0.27825415 -0.16650409]\n",
            " [ 0.44331288 -0.7391501  -0.7522181  -0.63767034]]\n",
            "Biases : [0. 0. 0. 0.]\n",
            "==============================\n",
            "Layer : Output_Layer\n",
            "Weights : [[ 0.5748751 ]\n",
            " [ 0.39621425]\n",
            " [ 0.69283926]\n",
            " [-0.06774008]]\n",
            "Biases : [0.]\n",
            "==============================\n"
          ]
        }
      ]
    },
    {
      "cell_type": "code",
      "source": [],
      "metadata": {
        "id": "zqGOW_r1W7PS"
      },
      "execution_count": null,
      "outputs": []
    },
    {
      "cell_type": "code",
      "source": [],
      "metadata": {
        "id": "LwK1TtOYW7R9"
      },
      "execution_count": null,
      "outputs": []
    },
    {
      "cell_type": "code",
      "source": [],
      "metadata": {
        "id": "iZU_uVsVW7Ui"
      },
      "execution_count": null,
      "outputs": []
    },
    {
      "cell_type": "code",
      "source": [],
      "metadata": {
        "id": "rovGD-ttW7XI"
      },
      "execution_count": null,
      "outputs": []
    },
    {
      "cell_type": "code",
      "source": [],
      "metadata": {
        "id": "WJwC2WkxW7Zq"
      },
      "execution_count": null,
      "outputs": []
    },
    {
      "cell_type": "code",
      "source": [],
      "metadata": {
        "id": "fREJ2MbdW7cV"
      },
      "execution_count": null,
      "outputs": []
    },
    {
      "cell_type": "code",
      "source": [],
      "metadata": {
        "id": "NasDzqDdW7ey"
      },
      "execution_count": null,
      "outputs": []
    }
  ]
}