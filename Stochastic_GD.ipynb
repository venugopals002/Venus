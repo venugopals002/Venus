{
  "nbformat": 4,
  "nbformat_minor": 0,
  "metadata": {
    "colab": {
      "provenance": [],
      "authorship_tag": "ABX9TyN/SlfegidCpeLOnPj7vAdM",
      "include_colab_link": true
    },
    "kernelspec": {
      "name": "python3",
      "display_name": "Python 3"
    },
    "language_info": {
      "name": "python"
    }
  },
  "cells": [
    {
      "cell_type": "markdown",
      "metadata": {
        "id": "view-in-github",
        "colab_type": "text"
      },
      "source": [
        "<a href=\"https://colab.research.google.com/github/venugopals002/Venus/blob/main/Stochastic_GD.ipynb\" target=\"_parent\"><img src=\"https://colab.research.google.com/assets/colab-badge.svg\" alt=\"Open In Colab\"/></a>"
      ]
    },
    {
      "cell_type": "code",
      "execution_count": 1,
      "metadata": {
        "id": "w-28U5OFawAN"
      },
      "outputs": [],
      "source": [
        "import tensorflow as tf\n",
        "from tensorflow.keras import models, layers, optimizers\n"
      ]
    },
    {
      "cell_type": "code",
      "source": [
        "from sklearn.model_selection import train_test_split\n",
        "import numpy as np"
      ],
      "metadata": {
        "id": "6kNOgTBubd2k"
      },
      "execution_count": 2,
      "outputs": []
    },
    {
      "cell_type": "markdown",
      "source": [
        "#Lets generate the data"
      ],
      "metadata": {
        "id": "PhEDmd6VcAh_"
      }
    },
    {
      "cell_type": "code",
      "source": [
        "np.random.seed(42)\n",
        "\n",
        "x = np.random.rand(1000, 10)   #1000 Rows with 10 features\n",
        "y = np.random.randint(0,2, size = (1000,1))"
      ],
      "metadata": {
        "id": "GuBskHwyb_Ut"
      },
      "execution_count": 6,
      "outputs": []
    },
    {
      "cell_type": "markdown",
      "source": [
        "## splitting the data in train test split"
      ],
      "metadata": {
        "id": "P6E_vjwkhcEi"
      }
    },
    {
      "cell_type": "code",
      "source": [
        "x_tran,x_test,y_train,y_test = train_test_split(x,y,test_size=0.2, random_state=42)"
      ],
      "metadata": {
        "id": "ERjz2r40ckri"
      },
      "execution_count": 11,
      "outputs": []
    },
    {
      "cell_type": "markdown",
      "source": [
        "##Lets Buld a neural netwrok"
      ],
      "metadata": {
        "id": "bDmuY6YvkXs-"
      }
    },
    {
      "cell_type": "code",
      "source": [
        "model = models.Sequential()\n",
        "model.add(layers.Dense(units = 64, activation = 'relu', input_shape = (10,)))  ##defining hidden layer1 and defining input shape\n",
        "model.add(layers.Dense(units = 32, activation = 'relu')) # Hidden Layer 2\n",
        "model.add(layers.Dense(units =1, activation = 'sigmoid')) ## output layer (if we are solving clasification problem, then number of units in outut layer will be one)"
      ],
      "metadata": {
        "id": "cF3c6KTpkbcY"
      },
      "execution_count": 14,
      "outputs": []
    },
    {
      "cell_type": "markdown",
      "source": [
        "## lets add functionality to the model, i.e. optimizers and loss functions"
      ],
      "metadata": {
        "id": "dlRMXFg_m-LV"
      }
    },
    {
      "cell_type": "code",
      "source": [
        "## lets define the optimizer\n",
        "# stochastic gradient descent\n",
        "\n",
        "sgd_optimizers = optimizers.SGD(learning_rate = 0.01)\n",
        "model.compile(\n",
        "            optimizer = sgd_optimizers,\n",
        "            loss = 'binary_crossentropy',\n",
        "            metrics = ['accuracy']\n",
        ")"
      ],
      "metadata": {
        "id": "Ac5w7s7XkgUA"
      },
      "execution_count": 18,
      "outputs": []
    },
    {
      "cell_type": "markdown",
      "source": [
        "## Fitting the model on given data"
      ],
      "metadata": {
        "id": "w1OJyNR2ouEa"
      }
    },
    {
      "cell_type": "code",
      "source": [
        "model.fit(\n",
        "    x_tran,\n",
        "    y_train,\n",
        "    epochs = 10,\n",
        "    batch_size = 1,\n",
        "    validation_data = (x_test, y_test)\n",
        ")"
      ],
      "metadata": {
        "colab": {
          "base_uri": "https://localhost:8080/"
        },
        "id": "OpiyTRhtnJ8u",
        "outputId": "afb3672f-bfda-4a2f-e822-06dceda9fd05"
      },
      "execution_count": 21,
      "outputs": [
        {
          "output_type": "stream",
          "name": "stdout",
          "text": [
            "Epoch 1/10\n",
            "800/800 [==============================] - 2s 2ms/step - loss: 0.6993 - accuracy: 0.5113 - val_loss: 0.6926 - val_accuracy: 0.5300\n",
            "Epoch 2/10\n",
            "800/800 [==============================] - 2s 3ms/step - loss: 0.6917 - accuracy: 0.5250 - val_loss: 0.6985 - val_accuracy: 0.4950\n",
            "Epoch 3/10\n",
            "800/800 [==============================] - 2s 3ms/step - loss: 0.6937 - accuracy: 0.5175 - val_loss: 0.6916 - val_accuracy: 0.5150\n",
            "Epoch 4/10\n",
            "800/800 [==============================] - 2s 3ms/step - loss: 0.6911 - accuracy: 0.5325 - val_loss: 0.6929 - val_accuracy: 0.5250\n",
            "Epoch 5/10\n",
            "800/800 [==============================] - 2s 2ms/step - loss: 0.6908 - accuracy: 0.5138 - val_loss: 0.6920 - val_accuracy: 0.5150\n",
            "Epoch 6/10\n",
            "800/800 [==============================] - 2s 2ms/step - loss: 0.6869 - accuracy: 0.5512 - val_loss: 0.6949 - val_accuracy: 0.5100\n",
            "Epoch 7/10\n",
            "800/800 [==============================] - 2s 2ms/step - loss: 0.6877 - accuracy: 0.5337 - val_loss: 0.6888 - val_accuracy: 0.5250\n",
            "Epoch 8/10\n",
            "800/800 [==============================] - 2s 2ms/step - loss: 0.6875 - accuracy: 0.5450 - val_loss: 0.6950 - val_accuracy: 0.5200\n",
            "Epoch 9/10\n",
            "800/800 [==============================] - 2s 2ms/step - loss: 0.6875 - accuracy: 0.5575 - val_loss: 0.6903 - val_accuracy: 0.5250\n",
            "Epoch 10/10\n",
            "800/800 [==============================] - 2s 2ms/step - loss: 0.6848 - accuracy: 0.5587 - val_loss: 0.6912 - val_accuracy: 0.5250\n"
          ]
        },
        {
          "output_type": "execute_result",
          "data": {
            "text/plain": [
              "<keras.src.callbacks.History at 0x7f86383c0f70>"
            ]
          },
          "metadata": {},
          "execution_count": 21
        }
      ]
    },
    {
      "cell_type": "code",
      "source": [],
      "metadata": {
        "id": "ePU0mlJ4oztV"
      },
      "execution_count": null,
      "outputs": []
    }
  ]
}