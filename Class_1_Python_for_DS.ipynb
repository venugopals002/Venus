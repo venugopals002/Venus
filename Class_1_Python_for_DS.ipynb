{
  "nbformat": 4,
  "nbformat_minor": 0,
  "metadata": {
    "colab": {
      "provenance": [],
      "authorship_tag": "ABX9TyPk5oB2AYc+iPCXrvAToG7x",
      "include_colab_link": true
    },
    "kernelspec": {
      "name": "python3",
      "display_name": "Python 3"
    },
    "language_info": {
      "name": "python"
    }
  },
  "cells": [
    {
      "cell_type": "markdown",
      "metadata": {
        "id": "view-in-github",
        "colab_type": "text"
      },
      "source": [
        "<a href=\"https://colab.research.google.com/github/venugopals002/Venus/blob/main/Class_1_Python_for_DS.ipynb\" target=\"_parent\"><img src=\"https://colab.research.google.com/assets/colab-badge.svg\" alt=\"Open In Colab\"/></a>"
      ]
    },
    {
      "cell_type": "code",
      "execution_count": 1,
      "metadata": {
        "colab": {
          "base_uri": "https://localhost:8080/"
        },
        "id": "zkxKT2gJoHp1",
        "outputId": "0f61ac28-3b98-47b8-a228-78d0b8917407"
      },
      "outputs": [
        {
          "output_type": "stream",
          "name": "stdout",
          "text": [
            "Hello World\n"
          ]
        }
      ],
      "source": [
        "print('Hello World')"
      ]
    },
    {
      "cell_type": "code",
      "source": [
        "x() # this is a function"
      ],
      "metadata": {
        "colab": {
          "base_uri": "https://localhost:8080/",
          "height": 161
        },
        "id": "6UvBtHKSoR9r",
        "outputId": "c7f9b126-7143-42a9-9efb-d9382ebeeeda"
      },
      "execution_count": 2,
      "outputs": [
        {
          "output_type": "error",
          "ename": "NameError",
          "evalue": "name 'x' is not defined",
          "traceback": [
            "\u001b[0;31m---------------------------------------------------------------------------\u001b[0m",
            "\u001b[0;31mNameError\u001b[0m                                 Traceback (most recent call last)",
            "\u001b[0;32m<ipython-input-2-90525912f538>\u001b[0m in \u001b[0;36m<cell line: 1>\u001b[0;34m()\u001b[0m\n\u001b[0;32m----> 1\u001b[0;31m \u001b[0mx\u001b[0m\u001b[0;34m(\u001b[0m\u001b[0;34m)\u001b[0m \u001b[0;31m# this is a function\u001b[0m\u001b[0;34m\u001b[0m\u001b[0;34m\u001b[0m\u001b[0m\n\u001b[0m",
            "\u001b[0;31mNameError\u001b[0m: name 'x' is not defined"
          ]
        }
      ]
    },
    {
      "cell_type": "code",
      "source": [
        "#python is a case sensitive language\n",
        "print(1)"
      ],
      "metadata": {
        "colab": {
          "base_uri": "https://localhost:8080/"
        },
        "id": "C9I6tjGjoc3H",
        "outputId": "185ec964-6d46-4b98-c459-c21bbaf54a1c"
      },
      "execution_count": 6,
      "outputs": [
        {
          "output_type": "stream",
          "name": "stdout",
          "text": [
            "1\n"
          ]
        }
      ]
    },
    {
      "cell_type": "code",
      "source": [
        "print(True)"
      ],
      "metadata": {
        "colab": {
          "base_uri": "https://localhost:8080/"
        },
        "id": "Pn2cKngAomCP",
        "outputId": "9c16e99f-eff4-461b-adb7-c1824fdbf0c4"
      },
      "execution_count": 7,
      "outputs": [
        {
          "output_type": "stream",
          "name": "stdout",
          "text": [
            "True\n"
          ]
        }
      ]
    },
    {
      "cell_type": "code",
      "source": [
        "print('Hello',1,4,5, True) # print function is very flexible we can print m"
      ],
      "metadata": {
        "colab": {
          "base_uri": "https://localhost:8080/"
        },
        "id": "nlO6rCbyo-d3",
        "outputId": "f81e782d-aad5-4939-ee4b-780b4f3edb66"
      },
      "execution_count": 8,
      "outputs": [
        {
          "output_type": "stream",
          "name": "stdout",
          "text": [
            "Hello 1 4 5 True\n"
          ]
        }
      ]
    },
    {
      "cell_type": "code",
      "source": [
        "print(8) # Int\n",
        "print(8.55) # Float\n",
        "print(True) # Boolean\n",
        "print('Hello') # String\n",
        "print(8+5j) # Complex\n",
        "print(None) # None"
      ],
      "metadata": {
        "colab": {
          "base_uri": "https://localhost:8080/"
        },
        "id": "PrGgVge4pK24",
        "outputId": "5c907e3e-c029-49df-c0eb-111b89fe6ec9"
      },
      "execution_count": 9,
      "outputs": [
        {
          "output_type": "stream",
          "name": "stdout",
          "text": [
            "8\n",
            "8.55\n",
            "True\n",
            "Hello\n",
            "(8+5j)\n",
            "None\n"
          ]
        }
      ]
    },
    {
      "cell_type": "code",
      "source": [
        "print([1,2,3,4,5]) # List\n",
        "print((1,2,3,4,5)) # Tuple\n",
        "print({1,2,3,4,5}) # Set\n",
        "print({'name': 'venu'}) # Dictionary"
      ],
      "metadata": {
        "colab": {
          "base_uri": "https://localhost:8080/"
        },
        "id": "Psk2KN6VuZkQ",
        "outputId": "0b09a089-28a2-42c1-c75f-ec44001c83f2"
      },
      "execution_count": 13,
      "outputs": [
        {
          "output_type": "stream",
          "name": "stdout",
          "text": [
            "[1, 2, 3, 4, 5]\n",
            "(1, 2, 3, 4, 5)\n",
            "{1, 2, 3, 4, 5}\n",
            "{'name': 'venu'}\n"
          ]
        }
      ]
    },
    {
      "cell_type": "code",
      "source": [
        "#type\n",
        "type('hello') # Str\n",
        "type(4+4j)"
      ],
      "metadata": {
        "colab": {
          "base_uri": "https://localhost:8080/"
        },
        "id": "Xe9coGB7uuMf",
        "outputId": "a00e7b64-c1ec-4ff0-ecfb-d8090567168b"
      },
      "execution_count": 16,
      "outputs": [
        {
          "output_type": "execute_result",
          "data": {
            "text/plain": [
              "complex"
            ]
          },
          "metadata": {},
          "execution_count": 16
        }
      ]
    },
    {
      "cell_type": "markdown",
      "source": [
        "## Variables"
      ],
      "metadata": {
        "id": "bNQpuyZ-vkEE"
      }
    },
    {
      "cell_type": "code",
      "source": [
        "name = 'venu'\n",
        "print(name)\n",
        "\n",
        "a=5\n",
        "b=7\n",
        "print(a+b)"
      ],
      "metadata": {
        "colab": {
          "base_uri": "https://localhost:8080/"
        },
        "id": "qeh3vFBRvUSX",
        "outputId": "0b8841d4-6ca1-4907-dee5-007d278d143e"
      },
      "execution_count": 20,
      "outputs": [
        {
          "output_type": "stream",
          "name": "stdout",
          "text": [
            "venu\n",
            "12\n"
          ]
        }
      ]
    },
    {
      "cell_type": "code",
      "source": [
        "# Dynamic typing\n",
        "a = 5\n",
        "print(a)\n",
        "a = 'venu'\n",
        "print(a)"
      ],
      "metadata": {
        "colab": {
          "base_uri": "https://localhost:8080/"
        },
        "id": "ahK56EuUviEO",
        "outputId": "c2e7540d-4128-4335-8e30-6b90c3e801e7"
      },
      "execution_count": 21,
      "outputs": [
        {
          "output_type": "stream",
          "name": "stdout",
          "text": [
            "5\n",
            "venu\n"
          ]
        }
      ]
    },
    {
      "cell_type": "code",
      "source": [
        "# static bindig\n",
        "int a = 5"
      ],
      "metadata": {
        "colab": {
          "base_uri": "https://localhost:8080/",
          "height": 126
        },
        "id": "uxNrxEtAwPJV",
        "outputId": "1d7dfc63-c8c1-4efe-f0e7-7c458bac66c7"
      },
      "execution_count": 22,
      "outputs": [
        {
          "output_type": "error",
          "ename": "SyntaxError",
          "evalue": "invalid syntax (<ipython-input-22-565ecef1fb1c>, line 2)",
          "traceback": [
            "\u001b[0;36m  File \u001b[0;32m\"<ipython-input-22-565ecef1fb1c>\"\u001b[0;36m, line \u001b[0;32m2\u001b[0m\n\u001b[0;31m    int a = 5\u001b[0m\n\u001b[0m        ^\u001b[0m\n\u001b[0;31mSyntaxError\u001b[0m\u001b[0;31m:\u001b[0m invalid syntax\n"
          ]
        }
      ]
    },
    {
      "cell_type": "code",
      "source": [
        "a,b,c = 1,2,3\n",
        "print(a,b,c)"
      ],
      "metadata": {
        "colab": {
          "base_uri": "https://localhost:8080/"
        },
        "id": "HyLN-Njywg0x",
        "outputId": "2af267da-083b-46dc-edae-c46f5efc41db"
      },
      "execution_count": 23,
      "outputs": [
        {
          "output_type": "stream",
          "name": "stdout",
          "text": [
            "1 2 3\n"
          ]
        }
      ]
    },
    {
      "cell_type": "code",
      "source": [
        "a=b=c=5\n",
        "print(a,b,c)"
      ],
      "metadata": {
        "colab": {
          "base_uri": "https://localhost:8080/"
        },
        "id": "vVjaDacSwp2b",
        "outputId": "3305de60-4145-4dbf-9c5b-edb2ffc34003"
      },
      "execution_count": 24,
      "outputs": [
        {
          "output_type": "stream",
          "name": "stdout",
          "text": [
            "5 5 5\n"
          ]
        }
      ]
    },
    {
      "cell_type": "markdown",
      "source": [
        "4. Keywords & Identifiers"
      ],
      "metadata": {
        "id": "e2D5RrUfxPi3"
      }
    },
    {
      "cell_type": "code",
      "source": [
        "# Keywords are reserved words dont assign key words to variables\n",
        "import keyword\n",
        "print(keyword.kwlist)\n"
      ],
      "metadata": {
        "colab": {
          "base_uri": "https://localhost:8080/"
        },
        "id": "HypW_V54wvFn",
        "outputId": "0ac4de9b-0c39-4bda-b5c7-f07ad6420beb"
      },
      "execution_count": 25,
      "outputs": [
        {
          "output_type": "stream",
          "name": "stdout",
          "text": [
            "['False', 'None', 'True', 'and', 'as', 'assert', 'async', 'await', 'break', 'class', 'continue', 'def', 'del', 'elif', 'else', 'except', 'finally', 'for', 'from', 'global', 'if', 'import', 'in', 'is', 'lambda', 'nonlocal', 'not', 'or', 'pass', 'raise', 'return', 'try', 'while', 'with', 'yield']\n"
          ]
        }
      ]
    },
    {
      "cell_type": "code",
      "source": [
        "# identifiers are names\n",
        "# You can't start with a digit\n",
        "name1 = 'venu'\n",
        "print(name1)\n",
        "# You can use special chars -> _\n",
        "first_name = 'venu'\n",
        "print(first_name)\n",
        "# Identifiers can not be keyword"
      ],
      "metadata": {
        "colab": {
          "base_uri": "https://localhost:8080/"
        },
        "id": "K-5Yg7IJym39",
        "outputId": "fe9eda75-c23e-4eb8-d1b2-80e47a0fbe5d"
      },
      "execution_count": 27,
      "outputs": [
        {
          "output_type": "stream",
          "name": "stdout",
          "text": [
            "venu\n",
            "venu\n"
          ]
        }
      ]
    },
    {
      "cell_type": "markdown",
      "source": [
        "5. User Input"
      ],
      "metadata": {
        "id": "F0xV6QV-zmbL"
      }
    },
    {
      "cell_type": "code",
      "source": [
        "# static Vs Dynamic\n",
        "input('your name please')"
      ],
      "metadata": {
        "colab": {
          "base_uri": "https://localhost:8080/",
          "height": 72
        },
        "id": "2fNf7j4JyrR6",
        "outputId": "856ef57b-6558-4406-f58a-0d481daf8fbf"
      },
      "execution_count": 29,
      "outputs": [
        {
          "name": "stdout",
          "output_type": "stream",
          "text": [
            "your name pleasevenu\n"
          ]
        },
        {
          "output_type": "execute_result",
          "data": {
            "text/plain": [
              "'venu'"
            ],
            "application/vnd.google.colaboratory.intrinsic+json": {
              "type": "string"
            }
          },
          "metadata": {},
          "execution_count": 29
        }
      ]
    },
    {
      "cell_type": "markdown",
      "source": [],
      "metadata": {
        "id": "b_RivUuB0TLS"
      }
    },
    {
      "cell_type": "code",
      "source": [
        "# take input from users and store them in a variable\n",
        "fnum = input('enter first number')\n",
        "snum = input('enter second number')\n",
        "#print(fnum,snum)\n",
        "# add the 2 variables\n",
        "result = int(fnum) + int(snum)\n",
        "# print the result\n",
        "print(result)"
      ],
      "metadata": {
        "colab": {
          "base_uri": "https://localhost:8080/"
        },
        "id": "T9kxaIwIz64y",
        "outputId": "1b6687c0-67fe-4aef-c761-ed9aca063c37"
      },
      "execution_count": 31,
      "outputs": [
        {
          "output_type": "stream",
          "name": "stdout",
          "text": [
            "enter first number323\n",
            "enter second number23\n",
            "346\n"
          ]
        }
      ]
    },
    {
      "cell_type": "code",
      "source": [
        "# type conversion\n",
        "# implicit vs explicit\n",
        "print(5+5.6)\n",
        "print(type(5),type(5.6))\n"
      ],
      "metadata": {
        "colab": {
          "base_uri": "https://localhost:8080/"
        },
        "id": "JEytZGMT05UD",
        "outputId": "63805afe-75ad-4715-ae69-339cde8c5ee8"
      },
      "execution_count": 34,
      "outputs": [
        {
          "output_type": "stream",
          "name": "stdout",
          "text": [
            "10.6\n",
            "<class 'int'> <class 'float'>\n"
          ]
        }
      ]
    },
    {
      "cell_type": "code",
      "source": [
        "# explicite\n",
        "print(4 + int('4'))"
      ],
      "metadata": {
        "colab": {
          "base_uri": "https://localhost:8080/"
        },
        "id": "CXFo9bpr1sIa",
        "outputId": "25232405-e1d6-4aad-f7c4-c03643937083"
      },
      "execution_count": 35,
      "outputs": [
        {
          "output_type": "stream",
          "name": "stdout",
          "text": [
            "8\n"
          ]
        }
      ]
    },
    {
      "cell_type": "code",
      "source": [
        "# prompt: write a program to print all data types in python\n",
        "\n",
        "import keyword\n",
        "\n",
        "# Print all data types in Python\n",
        "print(\"Data types in Python:\")\n",
        "\n",
        "# Print built-in data types\n",
        "print(\"- Built-in data types:\")\n",
        "print(\"\\t\", end=\"\")\n",
        "print(*[type(x).__name__ for x in [1, 1.0, True, \"string\", [], {}, ()]], sep=\", \")\n",
        "\n",
        "# Print sequence data types\n",
        "print(\"- Sequence data types:\")\n",
        "print(\"\\t\", end=\"\")\n",
        "print(*[type(x).__name__ for x in [[], (), \"string\"]], sep=\", \")\n",
        "\n",
        "# Print set data types\n",
        "print(\"- Set data types:\")\n",
        "print(\"\\t\", end=\"\")\n",
        "print(*[type(x).__name__ for x in [{1, 2, 3}, {1: 2, 3: 4}]], sep=\", \")\n",
        "\n",
        "# Print mapping data types\n",
        "print(\"- Mapping data types:\")\n",
        "print(\"\\t\", end=\"\")\n",
        "print(*[type(x).__name__ for x in [{1: 2, 3: 4}, {1, 2, 3}]], sep=\", \")\n",
        "\n",
        "# Print other data types\n",
        "print(\"- Other data types:\")\n",
        "print(\"\\t\", end=\"\")\n",
        "print(*[type(x).__name__ for x in [None, True, False]], sep=\", \")\n",
        "\n",
        "# Print keywords\n",
        "print(\"- Keywords:\")\n",
        "print(\"\\t\", end=\"\")\n",
        "print(*keyword.kwlist, sep=\", \")\n"
      ],
      "metadata": {
        "colab": {
          "base_uri": "https://localhost:8080/"
        },
        "id": "KWtA9fp219NU",
        "outputId": "87216ff0-3038-40f0-c4a6-8da1ef0c20f4"
      },
      "execution_count": 38,
      "outputs": [
        {
          "output_type": "stream",
          "name": "stdout",
          "text": [
            "Data types in Python:\n",
            "- Built-in data types:\n",
            "\tint, float, bool, str, list, dict, tuple\n",
            "- Sequence data types:\n",
            "\tlist, tuple, str\n",
            "- Set data types:\n",
            "\tset, dict\n",
            "- Mapping data types:\n",
            "\tdict, set\n",
            "- Other data types:\n",
            "\tNoneType, bool, bool\n",
            "- Keywords:\n",
            "\tFalse, None, True, and, as, assert, async, await, break, class, continue, def, del, elif, else, except, finally, for, from, global, if, import, in, is, lambda, nonlocal, not, or, pass, raise, return, try, while, with, yield\n"
          ]
        }
      ]
    },
    {
      "cell_type": "markdown",
      "source": [
        "# 7. Literals"
      ],
      "metadata": {
        "id": "WvRX-RP6ASJI"
      }
    },
    {
      "cell_type": "code",
      "source": [
        "# The value which we are saving in the variable is a litteral\n",
        "a = 0b1010 #Binary Literals\n",
        "b = 100 #Decimal Literal\n",
        "c = 0o310 #Octal Literal\n",
        "d = 0x12c #Hexadecimal Literal\n",
        "\n",
        "#Float Literal\n",
        "float_1 = 10.5\n",
        "float_2 = 1.5e2 # 1.5 * 10^2\n",
        "float_3 = 1.5e-3 # 1.5 * 10^-3\n",
        "\n",
        "#Complex Literal\n",
        "x = 3.14j\n",
        "\n",
        "print(a, b, c, d)\n",
        "print(float_1, float_2,float_3)\n",
        "print(x, x.imag, x.real)\n"
      ],
      "metadata": {
        "colab": {
          "base_uri": "https://localhost:8080/"
        },
        "id": "9xNicJGM2cZR",
        "outputId": "f2b8c188-7e54-4b8b-8481-b8be1daf896b"
      },
      "execution_count": 42,
      "outputs": [
        {
          "output_type": "stream",
          "name": "stdout",
          "text": [
            "10 100 200 300\n",
            "10.5 150.0 0.0015\n",
            "3.14j 3.14 0.0\n"
          ]
        }
      ]
    },
    {
      "cell_type": "code",
      "source": [],
      "metadata": {
        "id": "IDonbzFUAoOK"
      },
      "execution_count": null,
      "outputs": []
    }
  ]
}