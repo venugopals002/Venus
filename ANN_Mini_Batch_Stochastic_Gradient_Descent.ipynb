{
  "nbformat": 4,
  "nbformat_minor": 0,
  "metadata": {
    "colab": {
      "provenance": [],
      "authorship_tag": "ABX9TyMZSulNBmk/axahWybmuu1e",
      "include_colab_link": true
    },
    "kernelspec": {
      "name": "python3",
      "display_name": "Python 3"
    },
    "language_info": {
      "name": "python"
    }
  },
  "cells": [
    {
      "cell_type": "markdown",
      "metadata": {
        "id": "view-in-github",
        "colab_type": "text"
      },
      "source": [
        "<a href=\"https://colab.research.google.com/github/venugopals002/Venus/blob/main/ANN_Mini_Batch_Stochastic_Gradient_Descent.ipynb\" target=\"_parent\"><img src=\"https://colab.research.google.com/assets/colab-badge.svg\" alt=\"Open In Colab\"/></a>"
      ]
    },
    {
      "cell_type": "markdown",
      "source": [
        "##lets import basic packages"
      ],
      "metadata": {
        "id": "4uTQXeFRN6mD"
      }
    },
    {
      "cell_type": "code",
      "execution_count": 5,
      "metadata": {
        "id": "HnVVZkhdNDXh"
      },
      "outputs": [],
      "source": [
        "import tensorflow as tf\n",
        "from tensorflow.keras import models, layers, optimizers\n",
        "from sklearn.model_selection import train_test_split\n",
        "import numpy as np"
      ]
    },
    {
      "cell_type": "markdown",
      "source": [
        "## lets generate Data using NumPy"
      ],
      "metadata": {
        "id": "1dHwknAhNiu9"
      }
    },
    {
      "cell_type": "code",
      "source": [
        "np.random.seed(40)\n",
        "\n",
        "x = np.random.rand(1000,10)   #this generates random data of 1000 Rows and 10 Features\n",
        "y = np.random.randint(0,2, size = (1000,1))  #this generates radom integer either 1 or 0, having the rows of 1000 and 1 feature"
      ],
      "metadata": {
        "id": "qfp0GxgqNn6F"
      },
      "execution_count": 6,
      "outputs": []
    },
    {
      "cell_type": "markdown",
      "source": [
        "## split the data into train and test"
      ],
      "metadata": {
        "id": "1BYo-7ehOvhW"
      }
    },
    {
      "cell_type": "code",
      "source": [
        "x_train,x_test,y_train,y_test = train_test_split(\n",
        "    x,\n",
        "    y,\n",
        "    test_size=0.2,\n",
        "    random_state=42\n",
        "    )"
      ],
      "metadata": {
        "id": "ACDNf0vGOpC_"
      },
      "execution_count": 23,
      "outputs": []
    },
    {
      "cell_type": "markdown",
      "source": [
        "#Building ANN architecture"
      ],
      "metadata": {
        "id": "WtbDhni4PYTB"
      }
    },
    {
      "cell_type": "code",
      "source": [
        "model = models.Sequential()\n",
        "model.add(layers.Dense(units = 64, activation = 'relu', input_shape=(10,))) ## Hidden layer 1 with input shape of 10 units\n",
        "model.add(layers.Dense(units = 32, activation = 'relu'))  #Hidden layer 2\n",
        "model.add(layers.Dense(units = 1, activation = 'sigmoid')) #Output layer"
      ],
      "metadata": {
        "id": "7TZ1yLnFPRB6"
      },
      "execution_count": 9,
      "outputs": []
    },
    {
      "cell_type": "markdown",
      "source": [
        "##lets add functionality to the model"
      ],
      "metadata": {
        "id": "V1YhhwsMRlmB"
      }
    },
    {
      "cell_type": "markdown",
      "source": [
        "###lets define optimizer"
      ],
      "metadata": {
        "id": "g9pp7FLfRuM5"
      }
    },
    {
      "cell_type": "code",
      "source": [
        "## Mini Batch Stochastic Gradient descent\n",
        "mbsgd_optimizer = optimizers.SGD(learning_rate=0.01)\n",
        "\n",
        "model.compile(\n",
        "    optimizer = mbsgd_optimizer,\n",
        "    loss = \"binary_crossentropy\",\n",
        "    metrics = ['accuracy']\n",
        ")"
      ],
      "metadata": {
        "id": "RRKwYI8xRRgI"
      },
      "execution_count": 24,
      "outputs": []
    },
    {
      "cell_type": "markdown",
      "source": [
        "##Fitting the model on given data"
      ],
      "metadata": {
        "id": "apAefHhLTI1K"
      }
    },
    {
      "cell_type": "code",
      "source": [
        "model.fit(\n",
        "    x_train\n",
        "    ,y_train\n",
        "    ,epochs = 10\n",
        "    ,batch_size = 32\n",
        "    ,validation_data = (x_test,y_test)\n",
        ")"
      ],
      "metadata": {
        "colab": {
          "base_uri": "https://localhost:8080/"
        },
        "id": "mtHbcSh8R5K_",
        "outputId": "c8b428ac-3563-4acc-938e-ba39c90fc90d"
      },
      "execution_count": 25,
      "outputs": [
        {
          "output_type": "stream",
          "name": "stdout",
          "text": [
            "Epoch 1/10\n",
            "25/25 [==============================] - 1s 12ms/step - loss: 0.6935 - accuracy: 0.5075 - val_loss: 0.6999 - val_accuracy: 0.4450\n",
            "Epoch 2/10\n",
            "25/25 [==============================] - 0s 4ms/step - loss: 0.6930 - accuracy: 0.5038 - val_loss: 0.6996 - val_accuracy: 0.4350\n",
            "Epoch 3/10\n",
            "25/25 [==============================] - 0s 4ms/step - loss: 0.6927 - accuracy: 0.5200 - val_loss: 0.6994 - val_accuracy: 0.4450\n",
            "Epoch 4/10\n",
            "25/25 [==============================] - 0s 3ms/step - loss: 0.6924 - accuracy: 0.5225 - val_loss: 0.6992 - val_accuracy: 0.4550\n",
            "Epoch 5/10\n",
            "25/25 [==============================] - 0s 3ms/step - loss: 0.6923 - accuracy: 0.5163 - val_loss: 0.6991 - val_accuracy: 0.4600\n",
            "Epoch 6/10\n",
            "25/25 [==============================] - 0s 5ms/step - loss: 0.6922 - accuracy: 0.5225 - val_loss: 0.6989 - val_accuracy: 0.4600\n",
            "Epoch 7/10\n",
            "25/25 [==============================] - 0s 3ms/step - loss: 0.6921 - accuracy: 0.5175 - val_loss: 0.6988 - val_accuracy: 0.4600\n",
            "Epoch 8/10\n",
            "25/25 [==============================] - 0s 3ms/step - loss: 0.6919 - accuracy: 0.5263 - val_loss: 0.6987 - val_accuracy: 0.4550\n",
            "Epoch 9/10\n",
            "25/25 [==============================] - 0s 3ms/step - loss: 0.6917 - accuracy: 0.5238 - val_loss: 0.6985 - val_accuracy: 0.4450\n",
            "Epoch 10/10\n",
            "25/25 [==============================] - 0s 3ms/step - loss: 0.6917 - accuracy: 0.5300 - val_loss: 0.6984 - val_accuracy: 0.4450\n"
          ]
        },
        {
          "output_type": "execute_result",
          "data": {
            "text/plain": [
              "<keras.src.callbacks.History at 0x7928b4328f10>"
            ]
          },
          "metadata": {},
          "execution_count": 25
        }
      ]
    },
    {
      "cell_type": "code",
      "source": [],
      "metadata": {
        "id": "LVf7SKG2TtMK"
      },
      "execution_count": null,
      "outputs": []
    }
  ]
}